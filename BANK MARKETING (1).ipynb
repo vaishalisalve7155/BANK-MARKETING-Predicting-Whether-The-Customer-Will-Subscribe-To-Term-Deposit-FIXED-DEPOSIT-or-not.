{
 "cells": [
  {
   "cell_type": "markdown",
   "id": "2b4cf0a3",
   "metadata": {},
   "source": [
    "# BANK MARKETING:"
   ]
  },
  {
   "cell_type": "markdown",
   "id": "31ca087f",
   "metadata": {},
   "source": [
    "Predicting Whether The Customer Will Subscribe To Term Deposit (FIXED\n",
    "\n",
    "DEPOSIT) or not."
   ]
  },
  {
   "cell_type": "markdown",
   "id": "66864253",
   "metadata": {},
   "source": [
    "# Final Project: Classification"
   ]
  },
  {
   "cell_type": "code",
   "execution_count": null,
   "id": "492f4c99",
   "metadata": {},
   "outputs": [],
   "source": [
    "#Importing the libraries\n",
    "import numpy as np\n",
    "import pandas as pd\n",
    "import matplotlib.pyplot as plt\n",
    "import seaborn as sns\n",
    "%matplotlib inline\n",
    "import warnings\n",
    "warnings.filterwarnings(\"ignore\")"
   ]
  },
  {
   "cell_type": "code",
   "execution_count": null,
   "id": "1979ccf5",
   "metadata": {},
   "outputs": [],
   "source": [
    "#Loading the data\n",
    "train = pd.read_csv(\"train.csv\")\n",
    "test = pd.read_csv(\"test.csv\")"
   ]
  },
  {
   "cell_type": "markdown",
   "id": "982043ab",
   "metadata": {},
   "source": [
    "Checking the columns of each datase"
   ]
  },
  {
   "cell_type": "code",
   "execution_count": null,
   "id": "f8f84982",
   "metadata": {},
   "outputs": [],
   "source": [
    "train.columns"
   ]
  },
  {
   "cell_type": "code",
   "execution_count": null,
   "id": "2ad16acc",
   "metadata": {},
   "outputs": [],
   "source": [
    "Index(['ID', 'age', 'job', 'marital', 'education', 'default', 'balance',\n",
    "       'housing', 'loan', 'contact', 'day', 'month', 'duration', 'campaign',\n",
    "       'pdays', 'previous', 'poutcome', 'subscribed'],\n",
    "      dtype='object')"
   ]
  },
  {
   "cell_type": "code",
   "execution_count": null,
   "id": "2d616aab",
   "metadata": {},
   "outputs": [],
   "source": [
    "test.columns"
   ]
  },
  {
   "cell_type": "code",
   "execution_count": null,
   "id": "2437d44c",
   "metadata": {},
   "outputs": [],
   "source": [
    "Index(['id', 'age', 'job', 'marital', 'education', 'default', 'balance',\n",
    "       'housing', 'loan', 'contact', 'day', 'month', 'duration', 'campaign',\n",
    "       'pdays', 'previous', 'poutcome'],\n",
    "      dtype='object')"
   ]
  },
  {
   "cell_type": "markdown",
   "id": "210ab300",
   "metadata": {},
   "source": [
    "Hence, 'Subscribed' is the target variable.\n",
    "\n",
    "Checking the data types of the variables"
   ]
  },
  {
   "cell_type": "code",
   "execution_count": null,
   "id": "6a0c0a7a",
   "metadata": {},
   "outputs": [],
   "source": [
    "train.info()"
   ]
  },
  {
   "cell_type": "code",
   "execution_count": null,
   "id": "c61be2d6",
   "metadata": {},
   "outputs": [],
   "source": [
    "<class 'pandas.core.frame.DataFrame'>\n",
    "RangeIndex: 31647 entries, 0 to 31646\n",
    "Data columns (total 18 columns):"
   ]
  },
  {
   "cell_type": "code",
   "execution_count": null,
   "id": "2f6c5b7d",
   "metadata": {},
   "outputs": [],
   "source": [
    "#   Column      Non-Null Count  Dtype \n",
    "---  ------      --------------  ----- \n",
    " 0   ID          31647 non-null  int64 \n",
    " 1   age         31647 non-null  int64 \n",
    " 2   job         31647 non-null  object\n",
    " 3   marital     31647 non-null  object\n",
    " 4   education   31647 non-null  object\n",
    " 5   default     31647 non-null  object\n",
    " 6   balance     31647 non-null  int64 \n",
    " 7   housing     31647 non-null  object\n",
    " 8   loan        31647 non-null  object\n",
    " 9   contact     31647 non-null  object\n",
    " 10  day         31647 non-null  int64 \n",
    " 11  month       31647 non-null  object\n",
    " 12  duration    31647 non-null  int64 \n",
    " 13  campaign    31647 non-null  int64 \n",
    " 14  pdays       31647 non-null  int64 \n",
    " 15  previous    31647 non-null  int64 \n",
    " 16  poutcome    31647 non-null  object\n",
    " 17  subscribed  31647 non-null  object\n",
    "dtypes: int64(8), object(10)\n",
    "memory usage: 3.1+ MB"
   ]
  },
  {
   "cell_type": "code",
   "execution_count": null,
   "id": "2338ff7e",
   "metadata": {},
   "outputs": [],
   "source": [
    "test.info()"
   ]
  },
  {
   "cell_type": "code",
   "execution_count": null,
   "id": "f19011ea",
   "metadata": {},
   "outputs": [],
   "source": [
    "<class 'pandas.core.frame.DataFrame'>\n",
    "RangeIndex: 13564 entries, 0 to 13563\n",
    "Data columns (total 17 columns):"
   ]
  },
  {
   "cell_type": "code",
   "execution_count": null,
   "id": "360ed79f",
   "metadata": {},
   "outputs": [],
   "source": [
    " #   Column     Non-Null Count  Dtype \n",
    "---  ------     --------------  ----- \n",
    " 0   ID         13564 non-null  int64 \n",
    " 1   age        13564 non-null  int64 \n",
    " 2   job        13564 non-null  object\n",
    " 3   marital    13564 non-null  object\n",
    " 4   education  13564 non-null  object\n",
    " 5   default    13564 non-null  object\n",
    " 6   balance    13564 non-null  int64 \n",
    " 7   housing    13564 non-null  object\n",
    " 8   loan       13564 non-null  object\n",
    " 9   contact    13564 non-null  object\n",
    " 10  day        13564 non-null  int64 \n",
    " 11  month      13564 non-null  object\n",
    " 12  duration   13564 non-null  int64 \n",
    " 13  campaign   13564 non-null  int64 \n",
    " 14  pdays      13564 non-null  int64 \n",
    " 15  previous   13564 non-null  int64 \n",
    " 16  poutcome   13564 non-null  object\n",
    "dtypes: int64(8), object(9)\n",
    "memory usage: 1.3+ MB"
   ]
  },
  {
   "cell_type": "markdown",
   "id": "e1a9a5d2",
   "metadata": {},
   "source": [
    "Checking the shapes of each dataset"
   ]
  },
  {
   "cell_type": "code",
   "execution_count": null,
   "id": "52729a55",
   "metadata": {},
   "outputs": [],
   "source": [
    "train.shape"
   ]
  },
  {
   "cell_type": "code",
   "execution_count": null,
   "id": "5517bfa9",
   "metadata": {},
   "outputs": [],
   "source": [
    " (31647, 18)"
   ]
  },
  {
   "cell_type": "code",
   "execution_count": null,
   "id": "243fa141",
   "metadata": {},
   "outputs": [],
   "source": [
    "test.shape"
   ]
  },
  {
   "cell_type": "code",
   "execution_count": null,
   "id": "069f5243",
   "metadata": {},
   "outputs": [],
   "source": [
    "(13564, 17)"
   ]
  },
  {
   "cell_type": "markdown",
   "id": "28a6df57",
   "metadata": {},
   "source": [
    "Hence, we can see that we have 17 similar features in the both the dataset and 'Subscribed' is the variable that is to be predicted"
   ]
  },
  {
   "cell_type": "markdown",
   "id": "7ebc5031",
   "metadata": {},
   "source": [
    "# Data Exploration"
   ]
  },
  {
   "cell_type": "code",
   "execution_count": null,
   "id": "2238dcef",
   "metadata": {},
   "outputs": [],
   "source": [
    "#Printing the first 5 rows of the train dataset\n",
    "train.head()"
   ]
  },
  {
   "cell_type": "code",
   "execution_count": null,
   "id": "a7047126",
   "metadata": {},
   "outputs": [],
   "source": [
    "      ID    age   job          marital    education    default    balance    housing    loan    contact    day    month    duration    campaign    pdays    previous    poutcome    subscribed\n",
    "0    26110  56    admin.       married    unknown      no         1933        no         no     telephone  19     nov       44           2         -1        0          unknown       no\n",
    "1    40576  31    unknown      married    secondary    no         3           no         no     cellular   20     jul       91           2         -1        0          unknown       no\n",
    "2    15320  27    services     married    secondary    no         891         yes        no     cellular   18     jul       240          1         -1        0          unknown       no\n",
    "3    43962  57    management   divorced   tertiary     no         3287        no         no     cellular   22     jun       867          1         84        3          success       yes\n",
    "4    29842  31    technician   married    secondary    no         119         yes        no     cellular   4      feb       380          1         -1        0          unknown       no"
   ]
  },
  {
   "cell_type": "code",
   "execution_count": null,
   "id": "968d584b",
   "metadata": {},
   "outputs": [],
   "source": [
    "#Printing the first 5 rows of the test dataset\n",
    "test.head()"
   ]
  },
  {
   "cell_type": "code",
   "execution_count": null,
   "id": "1d7abdd8",
   "metadata": {},
   "outputs": [],
   "source": [
    "   ID     age    job            marital    education   default   balance   housing   loan   contact    day  month  duration   campaign  pdays   previous   poutcome\n",
    "0    38441  32    services        married    secondary    no       118       yes       no     cellular   15   may     20         6          -1     0         unknown\n",
    "1    40403  78    retired         divorced   primary      no       2787      no        no     telephone  1    jul     372        1          -1     0         unknown\n",
    "2    3709   31    self-employed   single     tertiary     no       144       yes       no     unknown    16   may     676        1          -1     0         unknown\n",
    "3    37422  57    services        single     primary      no       3777      yes       no     telephone  13   may     65         2          -1     0         unknown\n",
    "4    12527  45    blue-collar     divorced   secondary    no       -705      no        yes    unknown    3    jul     111        1          -1     0         unknown"
   ]
  },
  {
   "cell_type": "code",
   "execution_count": null,
   "id": "dd7fc14b",
   "metadata": {},
   "outputs": [],
   "source": [
    "#checking for missing values in train dataset\n",
    "train.isnull().sum()"
   ]
  },
  {
   "cell_type": "code",
   "execution_count": null,
   "id": "3264c9dd",
   "metadata": {},
   "outputs": [],
   "source": [
    "ID            0\n",
    "age           0\n",
    "job           0\n",
    "marital       0\n",
    "education     0\n",
    "default       0\n",
    "balance       0\n",
    "housing       0\n",
    "loan          0\n",
    "contact       0\n",
    "day           0\n",
    "month         0\n",
    "duration      0\n",
    "campaign      0\n",
    "pdays         0\n",
    "previous      0\n",
    "poutcome      0\n",
    "subscribed    0\n",
    "dtype: int64"
   ]
  },
  {
   "cell_type": "code",
   "execution_count": null,
   "id": "c3099c61",
   "metadata": {},
   "outputs": [],
   "source": [
    "#Checking for missing values in test dataset\n",
    "test.isnull().sum()"
   ]
  },
  {
   "cell_type": "code",
   "execution_count": null,
   "id": "25780536",
   "metadata": {},
   "outputs": [],
   "source": [
    "ID           0\n",
    "age          0\n",
    "job          0\n",
    "marital      0\n",
    "education    0\n",
    "default      0\n",
    "balance      0\n",
    "housing      0\n",
    "loan         0\n",
    "contact      0\n",
    "day          0\n",
    "month        0\n",
    "duration     0\n",
    "campaign     0\n",
    "pdays        0\n",
    "previous     0\n",
    "poutcome     0\n",
    "dtype: int64"
   ]
  },
  {
   "cell_type": "markdown",
   "id": "fac1c4fe",
   "metadata": {},
   "source": [
    "# Univariate Analysis"
   ]
  },
  {
   "cell_type": "markdown",
   "id": "1c322228",
   "metadata": {},
   "source": [
    "# Analysis of 'Subscribed' variable"
   ]
  },
  {
   "cell_type": "code",
   "execution_count": null,
   "id": "c6ff7732",
   "metadata": {},
   "outputs": [],
   "source": [
    "#Frequency of 'subscribed'\n",
    "train['subscribed'].value_counts()"
   ]
  },
  {
   "cell_type": "code",
   "execution_count": null,
   "id": "7b836259",
   "metadata": {},
   "outputs": [],
   "source": [
    "no     27932\n",
    "yes     3715\n",
    "Name: subscribed, dtype: int64"
   ]
  },
  {
   "cell_type": "code",
   "execution_count": null,
   "id": "5d00bf3e",
   "metadata": {},
   "outputs": [],
   "source": [
    "# Plotting the 'subscribed' frequency\n",
    "sns.countplot(data=train, x='subscribed')"
   ]
  },
  {
   "cell_type": "markdown",
   "id": "028df891",
   "metadata": {},
   "source": [
    "It seems like you're trying to use seaborn (sns) to create a count plot for the 'subscribed' variable in your train dataset. Assuming your dataset is structured correctly and you have imported seaborn and pandas libraries, you can create the count plot like this:"
   ]
  },
  {
   "cell_type": "code",
   "execution_count": null,
   "id": "3a35d674",
   "metadata": {},
   "outputs": [],
   "source": [
    "mport seaborn as sns\n",
    "import matplotlib.pyplot as plt\n",
    "​\n",
    "# Assuming 'subscribed' is a column in your train dataset\n",
    "sns.countplot(data=train, x='subscribed')\n",
    "​\n",
    "# Optionally, you can add labels\n",
    "plt.xlabel('Subscribed')\n",
    "plt.ylabel('Frequency')\n",
    "​\n",
    "# Show the plot\n",
    "plt.show()"
   ]
  },
  {
   "cell_type": "markdown",
   "id": "8a53bffc",
   "metadata": {},
   "source": [
    "This code will create a count plot showing the frequency of 'subscribed' values in your dataset. Make sure to replace 'subscribed' with the actual column name in your dataset if it's different."
   ]
  },
  {
   "cell_type": "code",
   "execution_count": null,
   "id": "099d6723",
   "metadata": {},
   "outputs": [],
   "source": [
    "Normalizing the frequency table of 'Subscribed' variable\n",
    "train['subscribed'].value_counts(normalize=True)"
   ]
  },
  {
   "cell_type": "code",
   "execution_count": null,
   "id": "00198cfc",
   "metadata": {},
   "outputs": [],
   "source": [
    "no     0.882611\n",
    "yes    0.117389\n",
    "Name: subscribed, dtype: float64"
   ]
  },
  {
   "cell_type": "markdown",
   "id": "ddc6be7d",
   "metadata": {},
   "source": [
    "From the above analysis we can see that only 3,715 people out of 31,647 have subscribed which is roughly 12%."
   ]
  },
  {
   "cell_type": "markdown",
   "id": "89d90ee7",
   "metadata": {},
   "source": [
    "# Analysing th 'Job' variable"
   ]
  },
  {
   "cell_type": "code",
   "execution_count": null,
   "id": "da238e28",
   "metadata": {},
   "outputs": [],
   "source": [
    "#Frequency table\n",
    "train['job'].value_counts()"
   ]
  },
  {
   "cell_type": "code",
   "execution_count": null,
   "id": "7ff34f9b",
   "metadata": {},
   "outputs": [],
   "source": [
    "blue-collar      6842\n",
    "management       6639\n",
    "technician       5307\n",
    "admin.           3631\n",
    "services         2903\n",
    "retired          1574\n",
    "self-employed    1123\n",
    "entrepreneur     1008\n",
    "unemployed        905\n",
    "housemaid         874\n",
    "student           635\n",
    "unknown           206\n",
    "Name: job, dtype: int64"
   ]
  },
  {
   "cell_type": "code",
   "execution_count": null,
   "id": "fc130194",
   "metadata": {},
   "outputs": [],
   "source": [
    "# Plotting the job frequency table\n",
    "sns.set_context('paper')\n",
    "train['job'].value_counts().plot(kind='bar', figsize=(10,6));"
   ]
  },
  {
   "cell_type": "markdown",
   "id": "616a3ae0",
   "metadata": {},
   "source": [
    "This code will create a bar plot showing the frequency of different job categories in your dataset. It uses seaborn's default style and sets the context to 'paper' for better visualization in publications. Here's the code:"
   ]
  },
  {
   "cell_type": "code",
   "execution_count": null,
   "id": "d140684c",
   "metadata": {},
   "outputs": [],
   "source": [
    "import seaborn as sns\n",
    "import matplotlib.pyplot as plt\n",
    "​\n",
    "# Set the context to 'paper' for better visualization\n",
    "sns.set_context('paper')\n",
    "​\n",
    "# Assuming 'job' is a column in your train dataset\n",
    "train['job'].value_counts().plot(kind='bar', figsize=(10,6))\n",
    "​\n",
    "# Optionally, you can add labels\n",
    "plt.xlabel('Job')\n",
    "plt.ylabel('Frequency')\n",
    "​\n",
    "# Show the plot\n",
    "plt.show()"
   ]
  },
  {
   "cell_type": "markdown",
   "id": "48ef3857",
   "metadata": {},
   "source": [
    "Make sure to replace 'job' with the actual column name in your dataset if it's different. This code will generate a bar plot showing the frequency of each job category in your dataset."
   ]
  },
  {
   "cell_type": "markdown",
   "id": "37593408",
   "metadata": {},
   "source": [
    "# Analysis of 'marital' status"
   ]
  },
  {
   "cell_type": "code",
   "execution_count": null,
   "id": "8dd9c563",
   "metadata": {},
   "outputs": [],
   "source": [
    "train['marital'].value_counts()"
   ]
  },
  {
   "cell_type": "code",
   "execution_count": null,
   "id": "5550b7ed",
   "metadata": {},
   "outputs": [],
   "source": [
    "married     19095\n",
    "single       8922\n",
    "divorced     3630\n",
    "Name: marital, dtype: int64"
   ]
  },
  {
   "cell_type": "code",
   "execution_count": null,
   "id": "5125fb86",
   "metadata": {},
   "outputs": [],
   "source": [
    "sns.countplot(data=train, x='marital');"
   ]
  },
  {
   "cell_type": "markdown",
   "id": "ec744d35",
   "metadata": {},
   "source": [
    "It seems like you want to create a count plot for the 'marital' variable in your dataset. Here's how you can do it using seaborn:"
   ]
  },
  {
   "cell_type": "code",
   "execution_count": null,
   "id": "e168d9d9",
   "metadata": {},
   "outputs": [],
   "source": [
    "import seaborn as sns\n",
    "import matplotlib.pyplot as plt\n",
    "​\n",
    "# Assuming the provided counts are for the 'marital' column\n",
    "marital_counts = {'married': 19095, 'single': 8922, 'divorced': 3630}\n",
    "​\n",
    "# Convert the counts to a DataFrame\n",
    "marital_df = pd.DataFrame.from_dict(marital_counts, orient='index', columns=['Count'])\n",
    "​\n",
    "# Plot the count plot\n",
    "sns.countplot(data=train, x='marital')\n",
    "​\n",
    "# Optionally, you can add labels\n",
    "plt.xlabel('Marital Status')\n",
    "plt.ylabel('Frequency')\n",
    "​\n",
    "# Show the plot\n",
    "plt.show()"
   ]
  },
  {
   "cell_type": "markdown",
   "id": "2fc3578b",
   "metadata": {},
   "source": [
    "This code will create a count plot showing the frequency of different marital statuses in your dataset. Make sure to replace 'marital' with the actual column name in your dataset if it's different."
   ]
  },
  {
   "cell_type": "code",
   "execution_count": null,
   "id": "5feb91ba",
   "metadata": {},
   "outputs": [],
   "source": [
    "sns.countplot(data=train, x='marital', hue='subscribed');"
   ]
  },
  {
   "cell_type": "markdown",
   "id": "cf358012",
   "metadata": {},
   "source": [
    "To create a count plot showing the frequency of different marital statuses with respect to the 'subscribed' variable, you can use seaborn's countplot() function with the hue parameter. Here's how you can do it:"
   ]
  },
  {
   "cell_type": "code",
   "execution_count": null,
   "id": "bf34770f",
   "metadata": {},
   "outputs": [],
   "source": [
    "import seaborn as sns\n",
    "import matplotlib.pyplot as plt\n",
    "​\n",
    "# Assuming 'marital' and 'subscribed' are columns in your train dataset\n",
    "sns.countplot(data=train, x='marital', hue='subscribed')\n",
    "​\n",
    "# Optionally, you can add labels\n",
    "plt.xlabel('Marital Status')\n",
    "plt.ylabel('Frequency')\n",
    "​\n",
    "# Show the plot\n",
    "plt.show()"
   ]
  },
  {
   "cell_type": "markdown",
   "id": "4bd9386f",
   "metadata": {},
   "source": [
    "# Analyzing the 'age' variable"
   ]
  },
  {
   "cell_type": "markdown",
   "id": "15680317",
   "metadata": {},
   "source": [
    "To analyze the 'age' variable, you can create various types of plots depending on what aspect of the data you want to explore. Here are a few options:"
   ]
  },
  {
   "cell_type": "markdown",
   "id": "49208b46",
   "metadata": {},
   "source": [
    "1 . Histogram: A histogram will show the distribution of ages in your dataset.\n",
    "\n"
   ]
  },
  {
   "cell_type": "code",
   "execution_count": null,
   "id": "58f2cd18",
   "metadata": {},
   "outputs": [],
   "source": [
    "import seaborn as sns\n",
    "import matplotlib.pyplot as plt\n",
    "​\n",
    "# Plotting histogram\n",
    "sns.histplot(data=train, x='age', bins=20)\n",
    "plt.xlabel('Age')\n",
    "plt.ylabel('Frequency')\n",
    "plt.title('Distribution of Age')\n",
    "plt.show()"
   ]
  },
  {
   "cell_type": "markdown",
   "id": "5a41d1b1",
   "metadata": {},
   "source": [
    "1 . Box plot: A box plot will help you visualize the central tendency and spread of ages, as well as identify potential outliers."
   ]
  },
  {
   "cell_type": "code",
   "execution_count": null,
   "id": "89b509ea",
   "metadata": {},
   "outputs": [],
   "source": [
    "sns.boxplot(data=train, x='age')\n",
    "plt.xlabel('Age')\n",
    "plt.title('Boxplot of Age')\n",
    "plt.show()"
   ]
  },
  {
   "cell_type": "markdown",
   "id": "e90201bc",
   "metadata": {},
   "source": [
    "1 . Violin plot: Similar to a box plot but provides a kernel density estimation of the distribution."
   ]
  },
  {
   "cell_type": "code",
   "execution_count": null,
   "id": "206329f2",
   "metadata": {},
   "outputs": [],
   "source": [
    "sns.violinplot(data=train, x='age')\n",
    "plt.xlabel('Age')\n",
    "plt.title('Violin Plot of Age')\n",
    "plt.show()"
   ]
  },
  {
   "cell_type": "markdown",
   "id": "b984af35",
   "metadata": {},
   "source": [
    " These are just a few options for visualizing the 'age' variable. Depending on your specific analysis goals, you may choose a different type of plot or combine multiple plots to gain deeper insights into your data."
   ]
  },
  {
   "cell_type": "markdown",
   "id": "423f940b",
   "metadata": {},
   "source": [
    "# Bivariate Analysis"
   ]
  },
  {
   "cell_type": "code",
   "execution_count": null,
   "id": "2bb815a0",
   "metadata": {},
   "outputs": [],
   "source": [
    "#job vs subscribed\n",
    "print(pd.crosstab(train['job'],train['subscribed']))"
   ]
  },
  {
   "cell_type": "code",
   "execution_count": null,
   "id": "549abead",
   "metadata": {},
   "outputs": [],
   "source": [
    "subscribed       no  yes\n",
    "job                     \n",
    "admin.         3179  452\n",
    "blue-collar    6353  489\n",
    "entrepreneur    923   85\n",
    "housemaid       795   79\n",
    "management     5716  923\n",
    "retired        1212  362\n",
    "self-employed   983  140\n",
    "services       2649  254\n",
    "student         453  182\n",
    "technician     4713  594\n",
    "unemployed      776  129\n",
    "unknown         180   26"
   ]
  },
  {
   "cell_type": "code",
   "execution_count": null,
   "id": "6f85c7ed",
   "metadata": {},
   "outputs": [],
   "source": [
    "job = pd.crosstab(train['job'],train['subscribed'])\n",
    "job_norm = job.div(job.sum(1).astype(float), axis=0"
   ]
  },
  {
   "cell_type": "code",
   "execution_count": null,
   "id": "6f67bb00",
   "metadata": {},
   "outputs": [],
   "source": [
    "job_norm.plot.bar(stacked=True,figsize=(8,6));"
   ]
  },
  {
   "cell_type": "markdown",
   "id": "ba850a33",
   "metadata": {},
   "source": [
    "It seems you want to create a stacked bar chart showing the relationship between the 'job' and 'subscribed' variables. Here's how you can do it using the provided cross-tabulation:"
   ]
  },
  {
   "cell_type": "code",
   "execution_count": null,
   "id": "fe92895c",
   "metadata": {},
   "outputs": [],
   "source": [
    "import pandas as pd\n",
    "import matplotlib.pyplot as plt\n",
    "​\n",
    "# Crosstabulation of job and subscribed\n",
    "job_subscribed_cross = pd.crosstab(train['job'], train['subscribed'])\n",
    "​\n",
    "# Normalize the cross-tabulation by dividing each row by the sum of its values\n",
    "job_subscribed_normalized = job_subscribed_cross.div(job_subscribed_cross.sum(1), axis=0)\n",
    "​\n",
    "# Plotting the normalized cross-tabulation as a stacked bar chart\n",
    "job_subscribed_normalized.plot(kind='bar', stacked=True, figsize=(10, 6))\n",
    "​\n",
    "# Optionally, you can add labels and a title\n",
    "plt.xlabel('Job')\n",
    "plt.ylabel('Proportion')\n",
    "plt.title('Subscription Status by Job')\n",
    "​\n",
    "# Show the plot\n",
    "plt.show()"
   ]
  },
  {
   "cell_type": "markdown",
   "id": "910b7cba",
   "metadata": {},
   "source": [
    "From the above graph we can infer that students and retired people have higher chances of subscribing to a term deposit, which is surprising as students generally do not subscribe to a term deposit. The possible reason is that the number of students in the dataset is less and comparatively to other job types, more students have subscribed to a term deposit."
   ]
  },
  {
   "cell_type": "code",
   "execution_count": null,
   "id": "be4c7657",
   "metadata": {},
   "outputs": [],
   "source": [
    "#Marital status vs subscribed\n",
    "pd.crosstab(train['marital'], train['subscribed'])"
   ]
  },
  {
   "cell_type": "code",
   "execution_count": null,
   "id": "6b2f91f1",
   "metadata": {},
   "outputs": [],
   "source": [
    "subscribed    no      yes\n",
    "marita              \n",
    "divorced     3185     445\n",
    "married      17176   1919\n",
    "single       7571    135"
   ]
  },
  {
   "cell_type": "code",
   "execution_count": null,
   "id": "49e280b1",
   "metadata": {},
   "outputs": [],
   "source": [
    "marital = pd.crosstab(train['marital'], train['subscribed'])\n",
    "marital_norm = marital.div(marital.sum(1).astype(float), axis=0)\n",
    "marital_norm"
   ]
  },
  {
   "cell_type": "code",
   "execution_count": null,
   "id": "cfe1cc01",
   "metadata": {},
   "outputs": [],
   "source": [
    "subscribed    no        yes\n",
    "marital       \n",
    "divorced     0.877410   0.122590\n",
    "married      0.899502   0.100498\n",
    "single       0.848577   0.151423"
   ]
  },
  {
   "cell_type": "code",
   "execution_count": null,
   "id": "92a736e4",
   "metadata": {},
   "outputs": [],
   "source": [
    "import pandas as pd\n",
    "import matplotlib.pyplot as plt\n",
    "​\n",
    "# Crosstabulation of marital status and subscribed\n",
    "marital_subscribed_cross = pd.crosstab(train['marital'], train['subscribed'])\n",
    "​\n",
    "# Normalize the cross-tabulation by dividing each row by the sum of its values\n",
    "marital_subscribed_normalized = marital_subscribed_cross.div(marital_subscribed_cross.sum(1), axis=0)\n",
    "​\n",
    "# Plotting the normalized cross-tabulation as a stacked bar chart\n",
    "marital_subscribed_normalized.plot(kind='bar', stacked=True, figsize=(10, 6))\n",
    "​\n",
    "# Optionally, you can add labels and a title\n",
    "plt.xlabel('Marital Status')\n",
    "plt.ylabel('Proportion')\n",
    "plt.title('Subscription Status by Marital Status')\n",
    "​\n",
    "# Show the plot\n",
    "plt.show()"
   ]
  },
  {
   "cell_type": "markdown",
   "id": "59d7138a",
   "metadata": {},
   "source": [
    "This code will create a stacked bar chart where each bar represents a marital status category, and the height of each segment within the bar represents the proportion of subscribers ('yes' and 'no') for that marital status category. This visualization allows you to compare the subscription status across different marital status categories."
   ]
  },
  {
   "cell_type": "code",
   "execution_count": null,
   "id": "a91a4104",
   "metadata": {},
   "outputs": [],
   "source": [
    "#default vs subscription\n",
    "pd.crosstab(train['default'], train['subscribed'])"
   ]
  },
  {
   "cell_type": "code",
   "execution_count": null,
   "id": "ed2ac3f6",
   "metadata": {},
   "outputs": [],
   "source": [
    "subscribed    no       yes\n",
    "default\n",
    "no           27388    3674\n",
    "yes          544      41"
   ]
  },
  {
   "cell_type": "code",
   "execution_count": null,
   "id": "c1d536cd",
   "metadata": {},
   "outputs": [],
   "source": [
    "dflt = pd.crosstab(train['default'], train['subscribed'])\n",
    "dflt_norm = dflt.div(dflt.sum(1).astype(float), axis=0)\n",
    "dflt_norm"
   ]
  },
  {
   "cell_type": "code",
   "execution_count": null,
   "id": "65287c9f",
   "metadata": {},
   "outputs": [],
   "source": [
    "subscribed      no        yes\n",
    "default\n",
    "no             0.881720   0.118280\n",
    "yes            0.929915   0.070085"
   ]
  },
  {
   "cell_type": "code",
   "execution_count": null,
   "id": "4213814d",
   "metadata": {},
   "outputs": [],
   "source": [
    "dflt_norm.plot.bar(stacked=True, figsize=(6,6))"
   ]
  },
  {
   "cell_type": "code",
   "execution_count": null,
   "id": "5a08227d",
   "metadata": {},
   "outputs": [],
   "source": [
    "import pandas as pd\n",
    "import matplotlib.pyplot as plt\n",
    "​\n",
    "# Crosstabulation of default and subscribed\n",
    "default_subscribed_cross = pd.crosstab(train['default'], train['subscribed'])\n",
    "​\n",
    "# Normalize the cross-tabulation by dividing each row by the sum of its values\n",
    "default_subscribed_normalized = default_subscribed_cross.div(default_subscribed_cross.sum(1), axis=0)\n",
    "​\n",
    "# Plotting the normalized cross-tabulation as a stacked bar chart\n",
    "default_subscribed_normalized.plot(kind='bar', stacked=True, figsize=(6, 6))\n",
    "​\n",
    "# Optionally, you can add labels and a title\n",
    "plt.xlabel('Default Status')\n",
    "plt.ylabel('Proportion')\n",
    "plt.title('Subscription Status by Default Status')\n",
    "​\n",
    "# Show the plot\n",
    "plt.show()"
   ]
  },
  {
   "cell_type": "markdown",
   "id": "1b8cf63b",
   "metadata": {},
   "source": [
    "We can infer that clients having no previous default have slightly higher chances of subscribing to a term loan as compared to the clients who have previous default history."
   ]
  },
  {
   "cell_type": "code",
   "execution_count": null,
   "id": "c2778f9b",
   "metadata": {},
   "outputs": [],
   "source": [
    "# Converting the target variables into 0s and 1s\n",
    "train['subscribed'].replace('no', 0,inplace=True)\n",
    "train['subscribed'].replace('yes', 1,inplace=True)"
   ]
  },
  {
   "cell_type": "code",
   "execution_count": null,
   "id": "6bf2818e",
   "metadata": {},
   "outputs": [],
   "source": [
    "train['subscribed']"
   ]
  },
  {
   "cell_type": "code",
   "execution_count": null,
   "id": "832cd288",
   "metadata": {},
   "outputs": [],
   "source": [
    "0        0\n",
    "1        0\n",
    "2        0\n",
    "3        1\n",
    "4        0\n",
    "        ..\n",
    "31642    0\n",
    "31643    1\n",
    "31644    0\n",
    "31645    0\n",
    "31646    1\n",
    "Name: subscribed, Length: 31647, dtype: int64"
   ]
  },
  {
   "cell_type": "code",
   "execution_count": null,
   "id": "9baf9e99",
   "metadata": {},
   "outputs": [],
   "source": [
    "#Correlation matrix\n",
    "tc = train.corr()\n",
    "tc"
   ]
  },
  {
   "cell_type": "code",
   "execution_count": null,
   "id": "9e1e0e9a",
   "metadata": {},
   "outputs": [],
   "source": [
    "           ID          age         balance     day         duration    campaign     pdays        previous     subscribed\n",
    "ID          1.000000    0.013337    0.067897   -0.063399     0.007183   -0.103508    0.436148     0.254476     0.296663\n",
    "age         0.013337    1.000000    0.103245   -0.011056    -0.003870    0.005733   -0.021947     0.005761     0.024538\n",
    "balance     0.067897    0.103245    1.000000    0.003461     0.024274   -0.012032    0.001789     0.013843     0.050807\n",
    "day        -0.063399   -0.011056    0.003461    1.000000    -0.032288    0.159168   -0.087626    -0.048752    -0.029600\n",
    "duration    0.007183   -0.003870    0.024274   -0.032288     1.000000   -0.080305    0.000529     0.001783     0.389838\n",
    "campaign   -0.103508    0.005733   -0.012032    0.159168    -0.080305    1.000000   -0.087570    -0.033151    -0.070607\n",
    "pdays       0.436148   -0.021947    0.001789   -0.087626     0.001783   -0.033151    0.428938     1.000000     0.088081\n",
    "subscribed  0.296663    0.024538    0.050807   -0.029600     0.389838   -0.070607    0.108290     0.088081     1.000000"
   ]
  },
  {
   "cell_type": "code",
   "execution_count": null,
   "id": "312b81e8",
   "metadata": {},
   "outputs": [],
   "source": [
    "fig,ax= plt.subplots()\n",
    "fig.set_size_inches(20,10)\n",
    "sns.heatmap(tc, annot=True, cmap='YlGnBu')"
   ]
  },
  {
   "cell_type": "code",
   "execution_count": null,
   "id": "da5ba408",
   "metadata": {},
   "outputs": [],
   "source": [
    "import seaborn as sns\n",
    "import matplotlib.pyplot as plt\n",
    "​\n",
    "# Assuming 'tc' is your correlation matrix\n",
    "# Example:\n",
    "# tc = your_correlation_matrix_function(your_data)\n",
    "​\n",
    "fig, ax = plt.subplots()\n",
    "fig.set_size_inches(20, 10)\n",
    "​\n",
    "sns.heatmap(tc, annot=True, cmap='YlGnBu', ax=ax)\n",
    "​\n",
    "# Optionally, you can add a title\n",
    "plt.title('Correlation Heatmap')\n",
    "​\n",
    "# Show the plot\n",
    "plt.show()"
   ]
  },
  {
   "cell_type": "markdown",
   "id": "712147e3",
   "metadata": {},
   "source": [
    "We can infer that duration of the call is highly correlated with the target variable. As the duration of the call is more, there are higher chances that the client is showing interest in the term deposit and hence there are higher chances that the client will subscribe to term deposit."
   ]
  },
  {
   "cell_type": "markdown",
   "id": "43fd376c",
   "metadata": {},
   "source": [
    "# Model Building"
   ]
  },
  {
   "cell_type": "code",
   "execution_count": null,
   "id": "75f629d9",
   "metadata": {},
   "outputs": [],
   "source": [
    "target = train['subscribed']\n",
    "train = train.drop('subscribed', axis=1)"
   ]
  },
  {
   "cell_type": "code",
   "execution_count": null,
   "id": "ce0d6dfb",
   "metadata": {},
   "outputs": [],
   "source": [
    "#generating dummy values on the train dataset\n",
    "train = pd.get_dummies(train)\n",
    "train.head()"
   ]
  },
  {
   "cell_type": "code",
   "execution_count": null,
   "id": "83933948",
   "metadata": {},
   "outputs": [],
   "source": [
    "    ID     age  balance  day  duration  campaign  pdays  previous  job_admin.  job_blue-collar   ...  month_jun   month   _mar   month_may  month_nov   month_oct    month_sep  poutcome_failure  poutcome_other    poutcome_success    poutcome_unknown\n",
    "0   26110  56   1933     19   44        2         -1     0         1           0                 ...   0           0       0     1           0          0            0          0                  0                 0                   1\n",
    "1   40576  31   3        20   91        2         -1     0         0           0                 ...   0           0       0     0           0          0            0          0                  0                 0                   1\n",
    "2   15320  27   891      18   240       1         -1     0         0           0                 ...   0           0       0     0           0          0            0          0                  0                 0                   1\n",
    "3   43962  57   3287     22   867       1         84     3         0           0                 ...   1           0       0     0           0          0            0          0                  0                 1                   0\n",
    "4   29842  31   119      4    380       1         -1     0         0           0                 ...   0           0       0     0           0          0            0          0                  0                 0                   1\n",
    "5 rows × 52 columns"
   ]
  },
  {
   "cell_type": "markdown",
   "id": "a2a9381f",
   "metadata": {},
   "source": [
    "Splitting the data into train and validation set such as to validate the results of our model on the validation set. keeping 20% of the dataset as our validation set and the rest as our training set."
   ]
  },
  {
   "cell_type": "code",
   "execution_count": null,
   "id": "5bf5b21c",
   "metadata": {},
   "outputs": [],
   "source": [
    "from sklearn.model_selection import train_test_split"
   ]
  },
  {
   "cell_type": "code",
   "execution_count": null,
   "id": "b584197f",
   "metadata": {},
   "outputs": [],
   "source": [
    "X_train, X_val, y_train, y_val = train_test_split(train, target, test_size=0.2, random_state=12)"
   ]
  },
  {
   "cell_type": "markdown",
   "id": "bdc61ba0",
   "metadata": {},
   "source": [
    "Now our data is ready and it's time to build our model and check its performance. Since it's a classification problem, I'll be using Logistic Regression model for this problem."
   ]
  },
  {
   "cell_type": "markdown",
   "id": "8b083f19",
   "metadata": {},
   "source": [
    "# Logistic Regression"
   ]
  },
  {
   "cell_type": "code",
   "execution_count": null,
   "id": "88c099ab",
   "metadata": {},
   "outputs": [],
   "source": [
    "from sklearn.linear_model import LogisticRegression"
   ]
  },
  {
   "cell_type": "code",
   "execution_count": null,
   "id": "793cdc1e",
   "metadata": {},
   "outputs": [],
   "source": [
    "#creating an object of logistic regression model\n",
    "lreg = LogisticRegression()"
   ]
  },
  {
   "cell_type": "code",
   "execution_count": null,
   "id": "7a5a97cb",
   "metadata": {},
   "outputs": [],
   "source": [
    "#fitting the data into the model\n",
    "lreg.fit(X_train,y_train)"
   ]
  },
  {
   "cell_type": "markdown",
   "id": "496deb84",
   "metadata": {},
   "source": [
    "LogisticRegression()"
   ]
  },
  {
   "cell_type": "code",
   "execution_count": null,
   "id": "6672ad6d",
   "metadata": {},
   "outputs": [],
   "source": [
    "#Making predictions on the validation set\n",
    "pred = lreg.predict(X_val)"
   ]
  },
  {
   "cell_type": "markdown",
   "id": "4011c6aa",
   "metadata": {},
   "source": [
    "Checking the accuracy of our model"
   ]
  },
  {
   "cell_type": "code",
   "execution_count": null,
   "id": "4b60c7f9",
   "metadata": {},
   "outputs": [],
   "source": [
    "from sklearn.metrics import accuracy_score_score"
   ]
  },
  {
   "cell_type": "code",
   "execution_count": null,
   "id": "e4e8b31d",
   "metadata": {},
   "outputs": [],
   "source": [
    "#Calculating the accuracy score\n",
    "accuracy_score(y_val,pred)"
   ]
  },
  {
   "cell_type": "code",
   "execution_count": null,
   "id": "6bad5e26",
   "metadata": {},
   "outputs": [],
   "source": [
    "0.8894154818325435"
   ]
  },
  {
   "cell_type": "markdown",
   "id": "213d28dd",
   "metadata": {},
   "source": [
    "We got an accuracy score of around 89% on the validation dataset. Logistic regression has a linear decision boundary. What if our data have non linearity? We need a model that can capture this non linearity.\n",
    "\n",
    "Using Decision Tree algorithm to for dealing with non-linearity"
   ]
  },
  {
   "cell_type": "markdown",
   "id": "1cfa71fe",
   "metadata": {},
   "source": [
    "# Decision Tree"
   ]
  },
  {
   "cell_type": "code",
   "execution_count": null,
   "id": "637757ac",
   "metadata": {},
   "outputs": [],
   "source": [
    "from sklearn.tree import DecisionTreeClassifier"
   ]
  },
  {
   "cell_type": "code",
   "execution_count": null,
   "id": "69eb2765",
   "metadata": {},
   "outputs": [],
   "source": [
    "#creating an object of Decision tree\n",
    "clf = DecisionTreeClassifier(max_depth=4, random_state=0)"
   ]
  },
  {
   "cell_type": "code",
   "execution_count": null,
   "id": "006b9fd6",
   "metadata": {},
   "outputs": [],
   "source": [
    "#fitting the model\n",
    "clf.fit(X_train, y_train)"
   ]
  },
  {
   "cell_type": "markdown",
   "id": "d3c3c78c",
   "metadata": {},
   "source": [
    "DecisionTreeClassifier(max_depth=4, random_state=0)"
   ]
  },
  {
   "cell_type": "code",
   "execution_count": null,
   "id": "181ade57",
   "metadata": {},
   "outputs": [],
   "source": [
    "#making predictions on the validation set\n",
    "predict = clf.predict(X_val)\n",
    "predict"
   ]
  },
  {
   "cell_type": "markdown",
   "id": "1ba2a181",
   "metadata": {},
   "source": [
    "array([0, 0, 0, ..., 1, 0, 0], dtype=int64"
   ]
  },
  {
   "cell_type": "code",
   "execution_count": null,
   "id": "d1ecc491",
   "metadata": {},
   "outputs": [],
   "source": [
    "#Calculating the accuracy\n",
    "accuracy_score(y_val,predict)"
   ]
  },
  {
   "cell_type": "markdown",
   "id": "9bec7bbf",
   "metadata": {},
   "source": [
    "0.9042654028436019\n",
    "\n",
    "We got an accuracy of more than 90% on the validation set.\n",
    "\n",
    "Let's now make the prediction on test dataset"
   ]
  },
  {
   "cell_type": "code",
   "execution_count": null,
   "id": "ec76b087",
   "metadata": {},
   "outputs": [],
   "source": [
    "test = pd.get_dummies(test)\n",
    "test.head()"
   ]
  },
  {
   "cell_type": "code",
   "execution_count": null,
   "id": "8cda3cbf",
   "metadata": {},
   "outputs": [],
   "source": [
    "   ID     age   balance  day  duration  campaign  pdays  previous  job_admin.  job_blue-collar  ...  month_jun    month_mar  month_may  month_nov   month_oct  month_sep  poutcome_failure   poutcome_other  poutcome_success  poutcome_unknown\n",
    "0   38441  32    118      15   20        6         -1     0         0           0                ...  0            0          1          0           0          0          0                   0               0                 1\n",
    "1   40403  78    2787     1    372       1         -1     0         0           0                ...  0            0          0          0           0          0          0                   0               0                 1\n",
    "2   3709   31    144      16   676       1         -1     0         0           0                ...  0            0          1          0           0          0          0                   0               0                 1\n",
    "3   37422  57    3777     13   65        2         -1     0         0           0                ...  0            0          1          0           0          0          0                   0               0                 1\n",
    "4   12527  45   -705      3    111       1         -1     0         0           1                ...  0            0          0          0           0          0          0                   0               0                 1\n",
    "5 rows × 52 columns"
   ]
  },
  {
   "cell_type": "code",
   "execution_count": null,
   "id": "7611a810",
   "metadata": {},
   "outputs": [],
   "source": [
    "test_pred = clf.predict(test)\n",
    "test_pred"
   ]
  },
  {
   "cell_type": "markdown",
   "id": "9423f53b",
   "metadata": {},
   "source": [
    "array([0, 1, 0, ..., 0, 1, 0], dtype=int64)\n",
    "\n",
    "Finally, we will save these predictions into a csv file."
   ]
  },
  {
   "cell_type": "code",
   "execution_count": null,
   "id": "94e81362",
   "metadata": {},
   "outputs": [],
   "source": [
    "submissions = pd.DataFrame()"
   ]
  },
  {
   "cell_type": "code",
   "execution_count": null,
   "id": "875cd030",
   "metadata": {},
   "outputs": [],
   "source": [
    "submissions['ID'] = test['ID']\n",
    "submissions['subscribed'] = test_pred"
   ]
  },
  {
   "cell_type": "code",
   "execution_count": null,
   "id": "031193bc",
   "metadata": {},
   "outputs": [],
   "source": [
    "submissions['subscribed']"
   ]
  },
  {
   "cell_type": "code",
   "execution_count": null,
   "id": "38199438",
   "metadata": {},
   "outputs": [],
   "source": [
    "0        0\n",
    "1        1\n",
    "2        0\n",
    "3        0\n",
    "4        0\n",
    "        ..\n",
    "13559    0\n",
    "13560    0\n",
    "13561    0\n",
    "13562    1\n",
    "13563    0\n",
    "Name: subscribed, Length: 13564, dtype: int64"
   ]
  },
  {
   "cell_type": "markdown",
   "id": "8daf11d7",
   "metadata": {},
   "source": [
    "Since the target variable is yes or no, we will convert 1 and 0 in the predictions to yes and no respectively."
   ]
  },
  {
   "cell_type": "code",
   "execution_count": null,
   "id": "1cdedc97",
   "metadata": {},
   "outputs": [],
   "source": [
    "submissions['subscribed'].replace(0,'no',inplace=True)\n",
    "submissions['subscribed'].replace(1,'yes',inplace=True)"
   ]
  },
  {
   "cell_type": "code",
   "execution_count": null,
   "id": "770db795",
   "metadata": {},
   "outputs": [],
   "source": [
    "\n",
    "submissions['subscribed']"
   ]
  },
  {
   "cell_type": "code",
   "execution_count": null,
   "id": "ba6b9dd8",
   "metadata": {},
   "outputs": [],
   "source": [
    "0         no\n",
    "1        yes\n",
    "2         no\n",
    "3         no\n",
    "4         no\n",
    "        ... \n",
    "13559     no\n",
    "13560     no\n",
    "13561     no\n",
    "13562    yes\n",
    "13563     no\n",
    "Name: subscribed, Length: 13564, dtype: object"
   ]
  },
  {
   "cell_type": "code",
   "execution_count": null,
   "id": "7f7067da",
   "metadata": {},
   "outputs": [],
   "source": [
    "submissions.to_csv('submission file.csv', header=True, index=False)"
   ]
  },
  {
   "cell_type": "code",
   "execution_count": null,
   "id": "6f228263",
   "metadata": {},
   "outputs": [],
   "source": []
  },
  {
   "cell_type": "code",
   "execution_count": null,
   "id": "3ab41627",
   "metadata": {},
   "outputs": [],
   "source": []
  }
 ],
 "metadata": {
  "kernelspec": {
   "display_name": "Python 3 (ipykernel)",
   "language": "python",
   "name": "python3"
  },
  "language_info": {
   "codemirror_mode": {
    "name": "ipython",
    "version": 3
   },
   "file_extension": ".py",
   "mimetype": "text/x-python",
   "name": "python",
   "nbconvert_exporter": "python",
   "pygments_lexer": "ipython3",
   "version": "3.10.9"
  }
 },
 "nbformat": 4,
 "nbformat_minor": 5
}
